{
 "cells": [
  {
   "cell_type": "code",
   "execution_count": 1,
   "metadata": {
    "collapsed": true
   },
   "outputs": [],
   "source": [
    "from bs4 import BeautifulSoup\n",
    "import requests\n",
    "import pandas as pd\n",
    "import numpy as np\n",
    "import html5lib"
   ]
  },
  {
   "cell_type": "code",
   "execution_count": 2,
   "metadata": {
    "collapsed": true
   },
   "outputs": [],
   "source": [
    "def makeSoup(url):\n",
    "    response=requests.get(url)\n",
    "    soup=BeautifulSoup(response.content,\"lxml\")\n",
    "    return soup"
   ]
  },
  {
   "cell_type": "code",
   "execution_count": 3,
   "metadata": {
    "collapsed": false
   },
   "outputs": [],
   "source": [
    "def dataCollector(soup):\n",
    "    import re\n",
    "    # make the soup\n",
    "    this = makeSoup(soup)\n",
    "    \n",
    "    # find the right table\n",
    "    tables = this.findChildren('table')\n",
    "    table = tables[2]\n",
    "    \n",
    "    # turn the data into a workable format\n",
    "    data   = [[td.text for td in row.select('td')]\n",
    "             for row in table.findAll('tr')]\n",
    "    \n",
    "    \n",
    "    body = data[1:][1:]\n",
    "    cols   =  zip(*body)\n",
    "    \n",
    "    # create a dict with the data\n",
    "    #tbl_d  = {name:col for name, col in zip(header,cols)}\n",
    "    \n",
    "    return body"
   ]
  },
  {
   "cell_type": "code",
   "execution_count": 4,
   "metadata": {
    "collapsed": false
   },
   "outputs": [
    {
     "data": {
      "text/plain": [
       "[['Aaron', 'Harold', 'Rick', 'Ian', 'Chad', 'Ian', 'Matthew', 'Ian'],\n",
       " ['Andy', 'Todd', 'Todd', 'Sean', 'Ian', 'Matthew', 'Ian', 'Matthew'],\n",
       " ['Anselm', 'Brad', 'Chad', 'Chad', 'Lanny', 'Chad', 'Chad', ''],\n",
       " ['Brad', 'Ryan M.', 'Brad', 'Ryan M.', 'Matthew', 'Lanny', ''],\n",
       " ['Brian', 'Ian', 'Sean', 'Brad', 'Brad', ''],\n",
       " ['Chad', 'Chad', 'Lanny', 'Matthew', 'Ryan M.', ''],\n",
       " ['Chris', 'Lanny', 'Ryan R.', 'Lanny', 'Sean', ''],\n",
       " ['Cory', 'Robert', 'Matthew', 'Rick', ''],\n",
       " ['Damon', 'Sean', 'Ian', 'Ryan R.', ''],\n",
       " ['Eliot', 'Ryan R.', 'Ryan M.', 'Todd', ''],\n",
       " ['Harold', 'Damon', 'Damon', ''],\n",
       " ['Ian', 'Eliot', 'Eliot', ''],\n",
       " ['Jeff', 'Matthew', 'Harold', ''],\n",
       " ['Justin', 'Marcus', 'Marcus', ''],\n",
       " ['Keith', 'Rick', 'Robert', ''],\n",
       " ['Lanny', 'Aaron', ''],\n",
       " ['Marcus', 'Andy', ''],\n",
       " ['Matthew', 'Anselm', ''],\n",
       " ['Rick', 'Brian', ''],\n",
       " ['Robert', 'Chris', ''],\n",
       " ['Ryan M.', 'Cory', ''],\n",
       " ['Ryan R.', 'Jeff', ''],\n",
       " ['Sean', 'Justin', ''],\n",
       " ['Todd', 'Keith', ''],\n",
       " ['Trever', 'Trever', '']]"
      ]
     },
     "execution_count": 4,
     "metadata": {},
     "output_type": "execute_result"
    }
   ],
   "source": [
    "dataCollector('https://en.wikipedia.org/wiki/The_Bachelorette_(season_2)')"
   ]
  },
  {
   "cell_type": "code",
   "execution_count": 5,
   "metadata": {
    "collapsed": true
   },
   "outputs": [],
   "source": [
    "def dataCollector(soup):\n",
    "    import re\n",
    "    # make the soup\n",
    "    this = makeSoup(soup)\n",
    "    \n",
    "    # find the right table\n",
    "    tables = this.findChildren('table')\n",
    "    table = tables[1]\n",
    "    \n",
    "    # turn the data into a workable format\n",
    "    data   = [[td.text for td in row.select('td')]\n",
    "             for row in table.findAll('tr')]\n",
    "    \n",
    "    # create the header row and the body\n",
    "    header = ['name','age', 'hometown', 'occupation', 'elimination']\n",
    "    body = data[1:]\n",
    "    cols   =  zip(*body)\n",
    "    \n",
    "    # create a dict with the data\n",
    "    tbl_d  = {name:col for name, col in zip(header,cols)}\n",
    "    \n",
    "    # extract the season number from the original soup\n",
    "    number = re.findall(r'\\d+', soup)\n",
    "    \n",
    "    # remove brackets\n",
    "    num= ''.join(number)\n",
    "    \n",
    "    # create a new key of seasons\n",
    "    tbl_d['season'] = [num] * len(tbl_d['age'])\n",
    "    \n",
    "    new_names = []\n",
    "    for name in tbl_d['name']:\n",
    "        cleaned_name = re.sub(r'\\[\\w+\\]', ' ', name)\n",
    "        new_names.append(cleaned_name)\n",
    "\n",
    "    tbl_d['name'] = new_names\n",
    "    \n",
    "    # return dictionary\n",
    "    return tbl_d"
   ]
  },
  {
   "cell_type": "code",
   "execution_count": 121,
   "metadata": {
    "collapsed": false
   },
   "outputs": [],
   "source": [
    "def dataCollector(soup):\n",
    "    import re\n",
    "    # make the soup\n",
    "    this = makeSoup(soup)\n",
    "    \n",
    "    # find the right table\n",
    "    tables = this.findChildren('table')\n",
    "    table = tables[2]\n",
    "    \n",
    "    \n",
    "    # find the descriptive colors in hex format\n",
    "    descript_colors_cols = this.findChildren('dd')\n",
    "    styles = [color.span['style'] for color in descript_colors_cols]\n",
    "    colors = [find_between(color,\"background-color:\",\";\") for color in styles]\n",
    "    \n",
    "    \n",
    "    messy_color_codes = [dd.text for dd in descript_colors_cols]\n",
    "    color_codes = [removePrefix(code,\"\\xa0\\xa0\\xa0\\xa0 \") for code in messy_color_codes]\n",
    "    \n",
    "    color_dict = dict(zip(colors, color_codes))\n",
    "\n",
    "    # turn the data into a workable format\n",
    "    data   = [[td.text for td in row.select('td')]\n",
    "             for row in table.findAll('tr')]\n",
    "    \n",
    "    body = data[1:][1:]\n",
    "    cols   =  zip(*body)\n",
    "    \n",
    "    # create a dict with the data\n",
    "    #tbl_d  = {name:col for name, col in zip(header,cols)}\n",
    "    contestants = [row[0] for row in body]\n",
    "    \n",
    "    return color_dict"
   ]
  },
  {
   "cell_type": "code",
   "execution_count": 122,
   "metadata": {
    "collapsed": false
   },
   "outputs": [
    {
     "data": {
      "text/plain": [
       "{'#32CD32': 'The contestant won the competition',\n",
       " '#87CEEB': 'The contestant was on a two-on-one date',\n",
       " '#D2B48C': 'The contestant was on a one-on-one date',\n",
       " '#EE82EE': 'The contestant was eliminated at the rose ceremony',\n",
       " '#FF6600': 'The contestant was on a two-on-one date and eliminated at the rose ceremony',\n",
       " '#FF69B4': 'The contestant went on a group date and was eliminated at the rose ceremony',\n",
       " '#FFFF00': 'The contestant went on a group date'}"
      ]
     },
     "execution_count": 122,
     "metadata": {},
     "output_type": "execute_result"
    }
   ],
   "source": [
    "dataCollector('https://en.wikipedia.org/wiki/The_Bachelorette_(season_2)')"
   ]
  },
  {
   "cell_type": "code",
   "execution_count": 85,
   "metadata": {
    "collapsed": false
   },
   "outputs": [
    {
     "name": "stdout",
     "output_type": "stream",
     "text": [
      "123STRING\n",
      "STRINGabc\n"
     ]
    }
   ],
   "source": [
    "def findBetween( s, first, last ):\n",
    "    try:\n",
    "        start = s.index( first ) + len( first )\n",
    "        end = s.index( last, start )\n",
    "        return s[start:end]\n",
    "    except ValueError:\n",
    "        return \"\"\n",
    "\n",
    "def findBetweenR( s, first, last ):\n",
    "    try:\n",
    "        start = s.rindex( first ) + len( first )\n",
    "        end = s.rindex( last, start )\n",
    "        return s[start:end]\n",
    "    except ValueError:\n",
    "        return \"\""
   ]
  },
  {
   "cell_type": "code",
   "execution_count": 113,
   "metadata": {
    "collapsed": false
   },
   "outputs": [],
   "source": [
    "def removePrefix(text, prefix):\n",
    "    return text[len(prefix):] if text.startswith(prefix) else text\n",
    "        "
   ]
  },
  {
   "cell_type": "code",
   "execution_count": 115,
   "metadata": {
    "collapsed": false
   },
   "outputs": [
    {
     "data": {
      "text/plain": [
       "'james'"
      ]
     },
     "execution_count": 115,
     "metadata": {},
     "output_type": "execute_result"
    }
   ],
   "source": []
  },
  {
   "cell_type": "code",
   "execution_count": null,
   "metadata": {
    "collapsed": true
   },
   "outputs": [],
   "source": []
  }
 ],
 "metadata": {
  "kernelspec": {
   "display_name": "Python 3",
   "language": "python",
   "name": "python3"
  },
  "language_info": {
   "codemirror_mode": {
    "name": "ipython",
    "version": 3
   },
   "file_extension": ".py",
   "mimetype": "text/x-python",
   "name": "python",
   "nbconvert_exporter": "python",
   "pygments_lexer": "ipython3",
   "version": "3.5.2"
  }
 },
 "nbformat": 4,
 "nbformat_minor": 0
}
