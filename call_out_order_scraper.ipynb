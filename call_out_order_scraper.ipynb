{
 "cells": [
  {
   "cell_type": "code",
   "execution_count": 1,
   "metadata": {
    "collapsed": true
   },
   "outputs": [],
   "source": [
    "from bs4 import BeautifulSoup\n",
    "import requests\n",
    "import pandas as pd\n",
    "import numpy as np\n",
    "import html5lib"
   ]
  },
  {
   "cell_type": "code",
   "execution_count": 4,
   "metadata": {
    "collapsed": true
   },
   "outputs": [],
   "source": [
    "def makeSoup(url):\n",
    "    response=requests.get(url)\n",
    "    soup=BeautifulSoup(response.content,\"lxml\")\n",
    "    return soup"
   ]
  },
  {
   "cell_type": "code",
   "execution_count": 57,
   "metadata": {
    "collapsed": false
   },
   "outputs": [],
   "source": [
    "def dataCollector(soup):\n",
    "    import re\n",
    "    # make the soup\n",
    "    this = makeSoup(soup)\n",
    "    \n",
    "    # find the right table\n",
    "    tables = this.findChildren('table')\n",
    "    table = tables[2]\n",
    "    \n",
    "    # turn the data into a workable format\n",
    "    data   = [[td.text for td in row.select('td')]\n",
    "             for row in table.findAll('tr')]\n",
    "    \n",
    "    \n",
    "    body = data[1:][1:]\n",
    "    cols   =  zip(*body)\n",
    "    \n",
    "    # create a dict with the data\n",
    "    #tbl_d  = {name:col for name, col in zip(header,cols)}\n",
    "    \n",
    "    return body"
   ]
  },
  {
   "cell_type": "code",
   "execution_count": 58,
   "metadata": {
    "collapsed": false
   },
   "outputs": [
    {
     "data": {
      "text/plain": [
       "[['Aaron', 'Harold', 'Rick', 'Ian', 'Chad', 'Ian', 'Matthew', 'Ian'],\n",
       " ['Andy', 'Todd', 'Todd', 'Sean', 'Ian', 'Matthew', 'Ian', 'Matthew'],\n",
       " ['Anselm', 'Brad', 'Chad', 'Chad', 'Lanny', 'Chad', 'Chad', ''],\n",
       " ['Brad', 'Ryan M.', 'Brad', 'Ryan M.', 'Matthew', 'Lanny', ''],\n",
       " ['Brian', 'Ian', 'Sean', 'Brad', 'Brad', ''],\n",
       " ['Chad', 'Chad', 'Lanny', 'Matthew', 'Ryan M.', ''],\n",
       " ['Chris', 'Lanny', 'Ryan R.', 'Lanny', 'Sean', ''],\n",
       " ['Cory', 'Robert', 'Matthew', 'Rick', ''],\n",
       " ['Damon', 'Sean', 'Ian', 'Ryan R.', ''],\n",
       " ['Eliot', 'Ryan R.', 'Ryan M.', 'Todd', ''],\n",
       " ['Harold', 'Damon', 'Damon', ''],\n",
       " ['Ian', 'Eliot', 'Eliot', ''],\n",
       " ['Jeff', 'Matthew', 'Harold', ''],\n",
       " ['Justin', 'Marcus', 'Marcus', ''],\n",
       " ['Keith', 'Rick', 'Robert', ''],\n",
       " ['Lanny', 'Aaron', ''],\n",
       " ['Marcus', 'Andy', ''],\n",
       " ['Matthew', 'Anselm', ''],\n",
       " ['Rick', 'Brian', ''],\n",
       " ['Robert', 'Chris', ''],\n",
       " ['Ryan M.', 'Cory', ''],\n",
       " ['Ryan R.', 'Jeff', ''],\n",
       " ['Sean', 'Justin', ''],\n",
       " ['Todd', 'Keith', ''],\n",
       " ['Trever', 'Trever', '']]"
      ]
     },
     "execution_count": 58,
     "metadata": {},
     "output_type": "execute_result"
    }
   ],
   "source": [
    "dataCollector('https://en.wikipedia.org/wiki/The_Bachelorette_(season_2)')"
   ]
  },
  {
   "cell_type": "code",
   "execution_count": null,
   "metadata": {
    "collapsed": true
   },
   "outputs": [],
   "source": [
    "def dataCollector(soup):\n",
    "    import re\n",
    "    # make the soup\n",
    "    this = makeSoup(soup)\n",
    "    \n",
    "    # find the right table\n",
    "    tables = this.findChildren('table')\n",
    "    table = tables[1]\n",
    "    \n",
    "    # turn the data into a workable format\n",
    "    data   = [[td.text for td in row.select('td')]\n",
    "             for row in table.findAll('tr')]\n",
    "    \n",
    "    # create the header row and the body\n",
    "    header = ['name','age', 'hometown', 'occupation', 'elimination']\n",
    "    body = data[1:]\n",
    "    cols   =  zip(*body)\n",
    "    \n",
    "    # create a dict with the data\n",
    "    tbl_d  = {name:col for name, col in zip(header,cols)}\n",
    "    \n",
    "    # extract the season number from the original soup\n",
    "    number = re.findall(r'\\d+', soup)\n",
    "    \n",
    "    # remove brackets\n",
    "    num= ''.join(number)\n",
    "    \n",
    "    # create a new key of seasons\n",
    "    tbl_d['season'] = [num] * len(tbl_d['age'])\n",
    "    \n",
    "    new_names = []\n",
    "    for name in tbl_d['name']:\n",
    "        cleaned_name = re.sub(r'\\[\\w+\\]', ' ', name)\n",
    "        new_names.append(cleaned_name)\n",
    "\n",
    "    tbl_d['name'] = new_names\n",
    "    \n",
    "    # return dictionary\n",
    "    return tbl_d"
   ]
  }
 ],
 "metadata": {
  "kernelspec": {
   "display_name": "Python 3",
   "language": "python",
   "name": "python3"
  },
  "language_info": {
   "codemirror_mode": {
    "name": "ipython",
    "version": 3
   },
   "file_extension": ".py",
   "mimetype": "text/x-python",
   "name": "python",
   "nbconvert_exporter": "python",
   "pygments_lexer": "ipython3",
   "version": "3.5.1"
  }
 },
 "nbformat": 4,
 "nbformat_minor": 0
}
