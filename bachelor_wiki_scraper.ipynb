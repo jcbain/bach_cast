{
 "cells": [
  {
   "cell_type": "code",
   "execution_count": 1,
   "metadata": {
    "collapsed": true
   },
   "outputs": [],
   "source": [
    "from bs4 import BeautifulSoup\n",
    "import requests\n",
    "import pandas as pd\n",
    "import numpy as np\n",
    "import html5lib"
   ]
  },
  {
   "cell_type": "code",
   "execution_count": 2,
   "metadata": {
    "collapsed": false
   },
   "outputs": [],
   "source": [
    "import numpy as np\n",
    "bachelor_seasons = np.arange(9,21)\n",
    "\n",
    "bachelor_urls = []\n",
    "for season in bachelor_seasons:\n",
    "    season_url = 'https://en.wikipedia.org/wiki/The_Bachelor_(season_{})'.format(season)\n",
    "    bachelor_urls.append(season_url)"
   ]
  },
  {
   "cell_type": "code",
   "execution_count": 3,
   "metadata": {
    "collapsed": false
   },
   "outputs": [],
   "source": [
    "import numpy as np\n",
    "bachelorette_seasons = np.arange(4,13)\n",
    "bachelorette_seasons = np.insert(bachelorette_seasons,0,2)\n",
    "\n",
    "bachelorette_urls = []\n",
    "for season in bachelorette_seasons:\n",
    "    season_url = 'https://en.wikipedia.org/wiki/The_Bachelorette_(season_{})'.format(season)\n",
    "    bachelorette_urls.append(season_url)"
   ]
  },
  {
   "cell_type": "code",
   "execution_count": 5,
   "metadata": {
    "collapsed": true
   },
   "outputs": [],
   "source": [
    "def makeSoup(url):\n",
    "    response=requests.get(url)\n",
    "    soup=BeautifulSoup(response.content,\"lxml\")\n",
    "    return soup"
   ]
  },
  {
   "cell_type": "code",
   "execution_count": 39,
   "metadata": {
    "collapsed": true
   },
   "outputs": [],
   "source": [
    "def dataCollector(soup):\n",
    "    import re\n",
    "    # make the soup\n",
    "    this = makeSoup(soup)\n",
    "    \n",
    "    # find the right table\n",
    "    tables = this.findChildren('table')\n",
    "    table = tables[1]\n",
    "    \n",
    "    # turn the data into a workable format\n",
    "    data   = [[td.text for td in row.select('td')]\n",
    "             for row in table.findAll('tr')]\n",
    "    \n",
    "    # create the header row and the body\n",
    "    header = ['name','age', 'hometown', 'occupation', 'elimination']\n",
    "    body = data[1:]\n",
    "    cols   =  zip(*body)\n",
    "    \n",
    "    # create a dict with the data\n",
    "    tbl_d  = {name:col for name, col in zip(header,cols)}\n",
    "    \n",
    "    # extract the season number from the original soup\n",
    "    number = re.findall(r'\\d+', soup)\n",
    "    \n",
    "    # remove brackets\n",
    "    num= ''.join(number)\n",
    "    \n",
    "    # create a new key of seasons\n",
    "    tbl_d['season'] = [num] * len(tbl_d['age'])\n",
    "    \n",
    "    new_names = []\n",
    "    for name in tbl_d['name']:\n",
    "        cleaned_name = re.sub(r'\\[\\w+\\]', ' ', name)\n",
    "        new_names.append(cleaned_name)\n",
    "\n",
    "    tbl_d['name'] = new_names\n",
    "    \n",
    "    # return dictionary\n",
    "    return tbl_d"
   ]
  },
  {
   "cell_type": "code",
   "execution_count": 40,
   "metadata": {
    "collapsed": false
   },
   "outputs": [],
   "source": [
    "def frameMaker(urls):\n",
    "    frames = []\n",
    "\n",
    "    for url in urls:\n",
    "        dictionary = dataCollector(url)\n",
    "        frame = pd.DataFrame(dictionary)\n",
    "        frames.append(frame)\n",
    "\n",
    "    combined = pd.concat(frames)\n",
    "    \n",
    "    return combined.reset_index()"
   ]
  },
  {
   "cell_type": "code",
   "execution_count": 41,
   "metadata": {
    "collapsed": false
   },
   "outputs": [],
   "source": [
    "bachelorette_frame = frameMaker(bachelorette_urls)"
   ]
  },
  {
   "cell_type": "code",
   "execution_count": 42,
   "metadata": {
    "collapsed": false
   },
   "outputs": [],
   "source": [
    "bachelor_frame = frameMaker(bachelor_urls)"
   ]
  },
  {
   "cell_type": "code",
   "execution_count": 43,
   "metadata": {
    "collapsed": false
   },
   "outputs": [],
   "source": [
    "bachelorette_frame.to_csv('data/bachelorette_contestants.csv', index = False)"
   ]
  },
  {
   "cell_type": "code",
   "execution_count": 44,
   "metadata": {
    "collapsed": false
   },
   "outputs": [],
   "source": [
    "bachelor_frame.to_csv('data/bachelor_contestants.csv', index = False)"
   ]
  }
 ],
 "metadata": {
  "kernelspec": {
   "display_name": "Python 3",
   "language": "python",
   "name": "python3"
  },
  "language_info": {
   "codemirror_mode": {
    "name": "ipython",
    "version": 3
   },
   "file_extension": ".py",
   "mimetype": "text/x-python",
   "name": "python",
   "nbconvert_exporter": "python",
   "pygments_lexer": "ipython3",
   "version": "3.5.1"
  }
 },
 "nbformat": 4,
 "nbformat_minor": 0
}
