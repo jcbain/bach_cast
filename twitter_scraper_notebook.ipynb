{
 "cells": [
  {
   "cell_type": "code",
   "execution_count": 1,
   "metadata": {
    "collapsed": false
   },
   "outputs": [],
   "source": [
    "import tweepy\n",
    "from tweepy import OAuthHandler\n",
    "import json"
   ]
  },
  {
   "cell_type": "code",
   "execution_count": 2,
   "metadata": {
    "collapsed": false
   },
   "outputs": [
    {
     "data": {
      "text/plain": [
       "'FNDwgj3zlMUw9CcxuwG1sAdYV35BbEJnpoAQWkg4EgZSi'"
      ]
     },
     "execution_count": 2,
     "metadata": {},
     "output_type": "execute_result"
    }
   ],
   "source": [
    "import pandas as pd\n",
    "\n",
    "access = pd.read_csv('data/twitter_access.csv', header = None)\n",
    "access[1][3]"
   ]
  },
  {
   "cell_type": "code",
   "execution_count": 3,
   "metadata": {
    "collapsed": true
   },
   "outputs": [],
   "source": [
    "# https://marcobonzanini.com/2015/03/02/mining-twitter-data-with-python-part-1/\n",
    "# for more info \n",
    "\n",
    "consumer_key = access[1][2]\n",
    "consumer_secret = access[1][0]\n",
    "access_token = access[1][1]\n",
    "access_secret = access[1][3]\n",
    "\n",
    "auth = OAuthHandler(consumer_key, consumer_secret)\n",
    "auth.set_access_token(access_token, access_secret)\n",
    " \n",
    "api = tweepy.API(auth)"
   ]
  },
  {
   "cell_type": "code",
   "execution_count": 4,
   "metadata": {
    "collapsed": true
   },
   "outputs": [],
   "source": [
    "def processOrStore(tweet):\n",
    "    print(json.dumps(tweet))"
   ]
  },
  {
   "cell_type": "code",
   "execution_count": 5,
   "metadata": {
    "collapsed": false
   },
   "outputs": [
    {
     "name": "stdout",
     "output_type": "stream",
     "text": [
      "RT @EmilyLFoley: Just a visual reminder of Villain Nick from Andi's season vs The Next Bachelor Nick. #BachelorInParadise https://t.co/zRsE…\n",
      "RT @etnow: Calling #BachelorNation! We're LIVE with @grantmkemp talking about #BachelorInParadise, #Grace and more. Join us: https://t.co/c…\n",
      "Watch Ashley I. of #TheBachelor and #BachelorInParadise talk about dating after reality stardom. https://t.co/iquCDj51pK\n",
      "The Madness in Bali is just 2 sleeps away. #CantWait #BachelorInParadise\n",
      "RT @etnow: Get ready, #BachelorInParadise fans! @GrantMKemp will be live with us tomorrow morning! https://t.co/WTvgl6eaVK https://t.co/1Gp…\n",
      "RT @etnow: Calling #BachelorNation! We're LIVE with @grantmkemp talking about #BachelorInParadise, #Grace and more. Join us: https://t.co/c…\n",
      "Calling #bachelorNation! We're LIVE with grantmkemp talking about #BachelorInParadise, #grace and more. Join us:…  Vía etnow\n",
      "RT @etnow: Calling #BachelorNation! We're LIVE with @grantmkemp talking about #BachelorInParadise, #Grace and more. Join us: https://t.co/c…\n",
      "Calling #BachelorNation! We're LIVE with @grantmkemp talking about #BachelorInParadise, #Grace and more. Join us:… https://t.co/WEzwhmHCai\n",
      "In case you missed it! @carlywaddell @ebassclinics @BachParadise #BachelorInParadise #BachelorNation #bachelor  https://t.co/Wd2RHJ43XQ\n",
      "RT @BachParadise: Congratulations to Josh and pizza, the cheesiest couple in Paradise! 🍕🍕 #BachelorInParadise https://t.co/GuT5CBHchx\n",
      "RT @BachParadise: Jorge was the true sage of Paradise. #BachelorInParadise https://t.co/uQvdF0RyJI\n",
      "RT @Jaibae90: Grant and Lace I have been rooting for you guys. 😍😍😍 I wish you both the best! Keep us updated!!! #BachelorInParadise\n",
      "RT @JacquiChildsFan: \"@JacquiChilds: http://t.co/pLpgbVz9ZG\n",
      "\n",
      "#bts #BachelorInParadise #jacquichilds\" Oh my God!\n",
      "RT @usweekly: Did #BachelorinParadise’s Josh Murray and Amanda Stanton split? https://t.co/TDvmsGcXYn https://t.co/5n66wOIjbR\n"
     ]
    }
   ],
   "source": [
    "search_text = \"#BachelorInParadise\"\n",
    "search_number = 2\n",
    "search_result = api.search(search_text, rpp=search_number)\n",
    "for i in search_result:\n",
    "    print(i.text)"
   ]
  },
  {
   "cell_type": "code",
   "execution_count": 14,
   "metadata": {
    "collapsed": false
   },
   "outputs": [
    {
     "ename": "NameError",
     "evalue": "name 'process_friend' is not defined",
     "output_type": "error",
     "traceback": [
      "\u001b[0;31m---------------------------------------------------------------------------\u001b[0m",
      "\u001b[0;31mNameError\u001b[0m                                 Traceback (most recent call last)",
      "\u001b[0;32m<ipython-input-14-aed9ce0b3669>\u001b[0m in \u001b[0;36m<module>\u001b[0;34m()\u001b[0m\n\u001b[1;32m      1\u001b[0m \u001b[0;32mfor\u001b[0m \u001b[0mfriend\u001b[0m \u001b[0;32min\u001b[0m \u001b[0mtweepy\u001b[0m\u001b[0;34m.\u001b[0m\u001b[0mCursor\u001b[0m\u001b[0;34m(\u001b[0m\u001b[0mapi\u001b[0m\u001b[0;34m.\u001b[0m\u001b[0mfriends\u001b[0m\u001b[0;34m)\u001b[0m\u001b[0;34m.\u001b[0m\u001b[0mitems\u001b[0m\u001b[0;34m(\u001b[0m\u001b[0;34m)\u001b[0m\u001b[0;34m:\u001b[0m\u001b[0;34m\u001b[0m\u001b[0m\n\u001b[1;32m      2\u001b[0m     \u001b[0;31m# Process the friend here\u001b[0m\u001b[0;34m\u001b[0m\u001b[0;34m\u001b[0m\u001b[0m\n\u001b[0;32m----> 3\u001b[0;31m     \u001b[0mprocess_friend\u001b[0m\u001b[0;34m(\u001b[0m\u001b[0mfriend\u001b[0m\u001b[0;34m)\u001b[0m\u001b[0;34m\u001b[0m\u001b[0m\n\u001b[0m",
      "\u001b[0;31mNameError\u001b[0m: name 'process_friend' is not defined"
     ]
    }
   ],
   "source": [
    "for friend in tweepy.Cursor(api.friends).items():\n",
    "    # Process the friend here\n",
    "    process_friend(friend)"
   ]
  },
  {
   "cell_type": "code",
   "execution_count": 15,
   "metadata": {
    "collapsed": false
   },
   "outputs": [],
   "source": [
    "user = api.me()"
   ]
  },
  {
   "cell_type": "code",
   "execution_count": 18,
   "metadata": {
    "collapsed": false
   },
   "outputs": [
    {
     "name": "stdout",
     "output_type": "stream",
     "text": [
      "Name: James Chester Bain\n",
      "Location: Columbia, MO\n",
      "Friends: 245\n"
     ]
    }
   ],
   "source": [
    "print('Name: {}'.format(user.name))\n",
    "print('Location: {}'.format(user.location))\n",
    "print('Friends: {}'.format(str(user.friends_count)))"
   ]
  },
  {
   "cell_type": "code",
   "execution_count": 36,
   "metadata": {
    "collapsed": false
   },
   "outputs": [],
   "source": []
  },
  {
   "cell_type": "code",
   "execution_count": null,
   "metadata": {
    "collapsed": true
   },
   "outputs": [],
   "source": []
  }
 ],
 "metadata": {
  "kernelspec": {
   "display_name": "Python 3",
   "language": "python",
   "name": "python3"
  },
  "language_info": {
   "codemirror_mode": {
    "name": "ipython",
    "version": 3
   },
   "file_extension": ".py",
   "mimetype": "text/x-python",
   "name": "python",
   "nbconvert_exporter": "python",
   "pygments_lexer": "ipython3",
   "version": "3.5.2"
  }
 },
 "nbformat": 4,
 "nbformat_minor": 0
}
