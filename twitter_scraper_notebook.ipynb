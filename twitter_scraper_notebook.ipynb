{
 "cells": [
  {
   "cell_type": "code",
   "execution_count": 13,
   "metadata": {
    "collapsed": false
   },
   "outputs": [],
   "source": [
    "import tweepy\n",
    "from tweepy import OAuthHandler\n",
    "import json"
   ]
  },
  {
   "cell_type": "code",
   "execution_count": 51,
   "metadata": {
    "collapsed": false
   },
   "outputs": [
    {
     "data": {
      "text/plain": [
       "'FNDwgj3zlMUw9CcxuwG1sAdYV35BbEJnpoAQWkg4EgZSi'"
      ]
     },
     "execution_count": 51,
     "metadata": {},
     "output_type": "execute_result"
    }
   ],
   "source": [
    "import pandas as pd\n",
    "\n",
    "access = pd.read_csv('data/twitter_access.csv', header = None)\n",
    "access[1][3]"
   ]
  },
  {
   "cell_type": "code",
   "execution_count": 52,
   "metadata": {
    "collapsed": true
   },
   "outputs": [],
   "source": [
    "# https://marcobonzanini.com/2015/03/02/mining-twitter-data-with-python-part-1/\n",
    "# for more info \n",
    "\n",
    "consumer_key = access[1][2]\n",
    "consumer_secret = access[1][0]\n",
    "access_token = access[1][1]\n",
    "access_secret = access[1][3]\n",
    "\n",
    "auth = OAuthHandler(consumer_key, consumer_secret)\n",
    "auth.set_access_token(access_token, access_secret)\n",
    " \n",
    "api = tweepy.API(auth)"
   ]
  },
  {
   "cell_type": "code",
   "execution_count": 53,
   "metadata": {
    "collapsed": true
   },
   "outputs": [],
   "source": [
    "def processOrStore(tweet):\n",
    "    print(json.dumps(tweet))"
   ]
  },
  {
   "cell_type": "code",
   "execution_count": 54,
   "metadata": {
    "collapsed": false
   },
   "outputs": [
    {
     "name": "stdout",
     "output_type": "stream",
     "text": [
      "New episode is up! Let us lead you into this long weekend with some Bachelor chat. #BachelorInParadise https://t.co/knzt28C1Tf\n",
      "\"Mom! Are you watching a satchel of paradise?\" LOL #BachelorInParadise\n",
      "RT @BachParadise: Tattoos and uncertainty are not a good mix. #BachelorInParadise https://t.co/z55bLkZ0Vz\n",
      "Caila explains what really went down with Jared on #BachelorInParadise https://t.co/EyCkxwMaoI via @HuffPostEnt\n",
      "RT @BachParadise: Tattoos and uncertainty are not a good mix. #BachelorInParadise https://t.co/z55bLkZ0Vz\n",
      "RT @TheEllenShow: This season of #BachelorInParadise is gonna be bananas. https://t.co/Dp9BCibbDP\n",
      "RT @etnow: EXCLUSIVE: #BachelorInParadise's Josh Murray gushes over Amanda Stanton. https://t.co/aALXIvm4oS https://t.co/BgtijQ2xXw\n",
      "RT @vfenwicksehl: New dream #BachelorInParadise couple: @WellsAdams &amp; @viallnicholas28 https://t.co/LbLsCUcqDl\n",
      "catching up on paradise- @VINNYVINSANE you are such a great guy and Izzy is going to regret that one forever! #BachelorInParadise\n",
      "RT @BachParadise: Will the Nick/Josh drama ever end? We'll sleep on it. #BachelorInParadise https://t.co/5BGEYQB06v\n",
      "RT @carlywaddell: So what do u guys think about next weeks finale of #bachelorinparadise ??? Do u think I'm still… https://t.co/dsYxfLHbvP\n",
      "@carlywaddell Can't wait to watch and I hope you leave #BachelorInParadise in love and with @ebassclinics ❤️ u both together👌🏻😊\n",
      "RT @stansastark: wells with puppies to brighten up your timeline. #bachelorinparadise https://t.co/UpwzfsYDR7\n",
      "Had to stop watching #bachelorinparadise because I can't suffer through @ashleyiaco 's psycho whining anymore......but seriously #crazyaf\n",
      "RT @tkmtwit: Hate to be the one to say it but replacing Chris Harrison w/ Daniel could add some years to the Bachelor/ette franchise. #Bach…\n"
     ]
    }
   ],
   "source": [
    "search_text = \"#BachelorInParadise\"\n",
    "search_number = 2\n",
    "search_result = api.search(search_text, rpp=search_number)\n",
    "for i in search_result:\n",
    "    print(i.text)"
   ]
  },
  {
   "cell_type": "code",
   "execution_count": 24,
   "metadata": {
    "collapsed": true
   },
   "outputs": [],
   "source": []
  },
  {
   "cell_type": "code",
   "execution_count": 25,
   "metadata": {
    "collapsed": false
   },
   "outputs": [
    {
     "data": {
      "text/plain": [
       "{'access_secret': 'FNDwgj3zlMUw9CcxuwG1sAdYV35BbEJnpoAQWkg4EgZSi',\n",
       " 'access_token': '2787275749-C0FyslA60PGfaYHBzmhe0pKxK68kxCcIOHffzLJ',\n",
       " 'consumer_key': 'gChtH5XgYPagFNq9WJIg4w4Xe',\n",
       " 'consumer_secret': 'JTqqKDK94HsgoLKA8wznESi38f8lSsBrdpduVTr6xJwE6ctAaa'}"
      ]
     },
     "execution_count": 25,
     "metadata": {},
     "output_type": "execute_result"
    }
   ],
   "source": []
  },
  {
   "cell_type": "code",
   "execution_count": 34,
   "metadata": {
    "collapsed": false
   },
   "outputs": [],
   "source": []
  },
  {
   "cell_type": "code",
   "execution_count": 36,
   "metadata": {
    "collapsed": false
   },
   "outputs": [],
   "source": []
  },
  {
   "cell_type": "code",
   "execution_count": null,
   "metadata": {
    "collapsed": true
   },
   "outputs": [],
   "source": []
  }
 ],
 "metadata": {
  "kernelspec": {
   "display_name": "Python 3",
   "language": "python",
   "name": "python3"
  },
  "language_info": {
   "codemirror_mode": {
    "name": "ipython",
    "version": 3
   },
   "file_extension": ".py",
   "mimetype": "text/x-python",
   "name": "python",
   "nbconvert_exporter": "python",
   "pygments_lexer": "ipython3",
   "version": "3.5.2"
  }
 },
 "nbformat": 4,
 "nbformat_minor": 0
}
